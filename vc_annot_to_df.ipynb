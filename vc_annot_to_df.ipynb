{
 "metadata": {
  "language_info": {
   "codemirror_mode": {
    "name": "ipython",
    "version": 3
   },
   "file_extension": ".py",
   "mimetype": "text/x-python",
   "name": "python",
   "nbconvert_exporter": "python",
   "pygments_lexer": "ipython3",
   "version": "3.8.3-final"
  },
  "orig_nbformat": 2,
  "kernelspec": {
   "name": "Python 3.8.3 64-bit ('base': conda)",
   "display_name": "Python 3.8.3 64-bit ('base': conda)",
   "metadata": {
    "interpreter": {
     "hash": "a37621db6f99f75e4d2a47a248a6a71709dd01999a0a2eb01144ce85e79d4af1"
    }
   }
  }
 },
 "nbformat": 4,
 "nbformat_minor": 2,
 "cells": [
  {
   "source": [
    "### This notebook extracts data from the annotated vcf, cleans up a little, and saves it as pickled dataframe"
   ],
   "cell_type": "markdown",
   "metadata": {}
  },
  {
   "source": [
    "#### Import vcf and convert into dataframe. Extract features inside cells as necessary."
   ],
   "cell_type": "markdown",
   "metadata": {}
  },
  {
   "cell_type": "code",
   "execution_count": 1,
   "metadata": {},
   "outputs": [],
   "source": [
    "import csv\n",
    "import gzip\n",
    "import re\n",
    "import pickle\n",
    "\n",
    "import pandas as pd"
   ]
  },
  {
   "cell_type": "code",
   "execution_count": 2,
   "metadata": {},
   "outputs": [],
   "source": [
    "# get columns names from tab delimited file\n",
    "cv_columns = {}\n",
    "with gzip.open(\"raw_vcf/clinvar.annotated.vcf.gz\", \"rt\") as f:\n",
    "    for metaline in f:\n",
    "        if metaline.startswith(\"##INFO\"):\n",
    "            colname = re.search(\"ID=(\\w+),\", metaline.strip(\"#\\n\"))\n",
    "            coldesc = re.search(\".*Description=(.*)>\", metaline.strip(\"#\\n\"))\n",
    "            cv_columns[colname.group(1)] = coldesc.group(1).strip('\"')"
   ]
  },
  {
   "cell_type": "code",
   "execution_count": 3,
   "metadata": {},
   "outputs": [],
   "source": [
    "# read tab delimited\n",
    "cv_df = pd.read_csv(\n",
    "    \"raw_vcf/clinvar.annotated.vcf.gz\",\n",
    "    sep=\"\\t\",\n",
    "    skiprows=35,\n",
    "    usecols=[0, 1, 2, 3, 4, 7], # rid of columns 5, 6\n",
    "    header=None,\n",
    ")"
   ]
  },
  {
   "cell_type": "code",
   "execution_count": 4,
   "metadata": {},
   "outputs": [],
   "source": [
    "cv_df.rename(columns={0: \"CHROM\", 1: \"POS\", 2: \"ID\", 3: \"REF\", 4: \"ALT\"}, inplace=True)"
   ]
  },
  {
   "cell_type": "code",
   "execution_count": 5,
   "metadata": {},
   "outputs": [],
   "source": [
    "# convert the long dictionary in column 7 to actual columns\n",
    "def list_to_dict(l):\n",
    "    \"\"\"Convert list to dict.\"\"\"\n",
    "    return {k: v for k, v in (x.split(\"=\") for x in l)}\n",
    "\n",
    "cv_df = pd.concat(\n",
    "    [\n",
    "        cv_df.drop([7], axis=1),\n",
    "        cv_df[7].str.split(\";\").apply(list_to_dict).apply(pd.Series),\n",
    "    ],\n",
    "    axis=1,\n",
    ")"
   ]
  },
  {
   "source": [
    "# the CSQ column has a bit different syntax. Unpack and convert into actual columns\n",
    "\n",
    "# get column names for CSQ\n",
    "with gzip.open(\"raw_vcf/clinvar.annotated.vcf.gz\", \"rt\") as f:\n",
    "        for line in f:\n",
    "            if line.startswith(\"##INFO=<ID=CSQ\"):\n",
    "                m = re.search(r'.*Format: (.*)\">', line)\n",
    "                cols = m.group(1).split(\"|\")\n",
    "\n",
    "# pipe to dict\n",
    "def CSQ_to_dict(l):\n",
    "    '''\n",
    "    Convert the pipe_separated values in the CSQ column to dict\n",
    "    '''\n",
    "    annotation_data = {}\n",
    "    for csq_column, csq_value in zip(cols, l):\n",
    "        annotation_data[csq_column] = csq_value\n",
    "    return annotation_data\n",
    "        \n",
    "# convert and concat\n",
    "cv_df = pd.concat(\n",
    "    [\n",
    "        cv_df.drop(['CSQ'], axis=1),\n",
    "        cv_df['CSQ'].str.split(\"|\").apply(CSQ_to_dict).apply(pd.Series),\n",
    "    ],\n",
    "    axis=1,\n",
    ")"
   ],
   "cell_type": "code",
   "metadata": {
    "tags": []
   },
   "execution_count": 6,
   "outputs": []
  },
  {
   "cell_type": "code",
   "execution_count": null,
   "metadata": {},
   "outputs": [],
   "source": []
  },
  {
   "cell_type": "code",
   "execution_count": null,
   "metadata": {},
   "outputs": [],
   "source": []
  },
  {
   "source": [
    "#### Narrow down rows to those only with clear targets. Catagorize target into three different bins. "
   ],
   "cell_type": "markdown",
   "metadata": {}
  },
  {
   "source": [
    "# narrow rows down to just unambiguous clinical diagnoses\n",
    "unamb_stat = ['criteria_provided,_multiple_submitters,_no_conflicts','reviewed_by_expert_panel','practice_guideline ']\n",
    "cv_df = cv_df.loc[cv_df['CLNREVSTAT'].isin(unamb_stat)]"
   ],
   "cell_type": "code",
   "metadata": {},
   "execution_count": 7,
   "outputs": []
  },
  {
   "cell_type": "code",
   "execution_count": 8,
   "metadata": {},
   "outputs": [],
   "source": [
    "# drop rows with just drug_response as a CLNSIG\n",
    "cv_df = cv_df.drop(cv_df[cv_df['CLNSIG'] == 'drug_response'].index)\n",
    "\n",
    "#convert ['CLNSIG'] into just three catagories\n",
    "cv_df.loc[cv_df['CLNSIG'].str.startswith(\"Benign\") | cv_df['CLNSIG'].str.startswith(\"Likely_benign\"), ['CLNSIG']] = 'Benign_cat'\n",
    "cv_df.loc[cv_df['CLNSIG'].str.startswith(\"Uncertain_significance\"), ['CLNSIG']] = 'Uncertain_significance_cat'\n",
    "cv_df.loc[cv_df['CLNSIG'].str.startswith(\"Pathogenic\") | cv_df['CLNSIG'].str.startswith(\"Likely_pathogenic\"), ['CLNSIG']] = 'Pathogenic_cat'"
   ]
  },
  {
   "cell_type": "code",
   "execution_count": 9,
   "metadata": {},
   "outputs": [
    {
     "output_type": "execute_result",
     "data": {
      "text/plain": [
       "Benign_cat                    28086\n",
       "Uncertain_significance_cat    17223\n",
       "Pathogenic_cat                12354\n",
       "Name: CLNSIG, dtype: int64"
      ]
     },
     "metadata": {},
     "execution_count": 9
    }
   ],
   "source": [
    "cv_df['CLNSIG'].value_counts()"
   ]
  },
  {
   "cell_type": "code",
   "execution_count": null,
   "metadata": {},
   "outputs": [],
   "source": []
  },
  {
   "cell_type": "code",
   "execution_count": null,
   "metadata": {},
   "outputs": [],
   "source": []
  },
  {
   "source": [
    "#### Drop columns absolutely not needed, and save cleaned up file as pickled file"
   ],
   "cell_type": "markdown",
   "metadata": {}
  },
  {
   "cell_type": "code",
   "execution_count": 10,
   "metadata": {},
   "outputs": [],
   "source": [
    "#drop columns not needed\n",
    "cv_df = cv_df.drop(columns=['ALLELEID', 'CLNDISDB',\n",
    "       'CLNHGVS', 'CLNREVSTAT', 'CLNVCSO', 'CLNVI',\n",
    "       'GENEINFO', 'RS', 'CLNSIGCONF',\n",
    "       'CLNDISDBINCL', 'CLNSIGINCL', 'SSR', 'DBVARID','Allele', \n",
    "       'IMPACT', 'SYMBOL', 'Gene','Feature_type','Feature','HGVSc','HGVSp','Existing_variation','DISTANCE',\n",
    "       'STRAND','FLAGS','SYMBOL_SOURCE','HGNC_ID','TSL','APPRIS','REFSEQ_MATCH',\n",
    "       'GIVEN_REF','USED_REF','MOTIF_NAME','MOTIF_POS','HIGH_INF_POS','MOTIF_SCORE_CHANGE','MPC'])"
   ]
  },
  {
   "cell_type": "code",
   "execution_count": 11,
   "metadata": {},
   "outputs": [],
   "source": [
    "file = open('cv_df_extracted', 'wb')\n",
    "pickle.dump(cv_df, file)\n",
    "file.close()"
   ]
  },
  {
   "cell_type": "code",
   "execution_count": null,
   "metadata": {},
   "outputs": [],
   "source": []
  },
  {
   "cell_type": "code",
   "execution_count": null,
   "metadata": {},
   "outputs": [],
   "source": []
  }
 ]
}