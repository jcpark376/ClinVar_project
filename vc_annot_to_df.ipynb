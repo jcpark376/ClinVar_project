{
 "metadata": {
  "language_info": {
   "codemirror_mode": {
    "name": "ipython",
    "version": 3
   },
   "file_extension": ".py",
   "mimetype": "text/x-python",
   "name": "python",
   "nbconvert_exporter": "python",
   "pygments_lexer": "ipython3",
   "version": "3.8.3-final"
  },
  "orig_nbformat": 2,
  "kernelspec": {
   "name": "Python 3.8.3 64-bit ('base': conda)",
   "display_name": "Python 3.8.3 64-bit ('base': conda)",
   "metadata": {
    "interpreter": {
     "hash": "a37621db6f99f75e4d2a47a248a6a71709dd01999a0a2eb01144ce85e79d4af1"
    }
   }
  }
 },
 "nbformat": 4,
 "nbformat_minor": 2,
 "cells": [
  {
   "source": [
    "### There are two related tab-delimited vcf files. \n",
    "-regular\n",
    "-annotated\n",
    "\n",
    "### This notebook cleans up the annotated dataframe and saves it as pickled dataframe"
   ],
   "cell_type": "markdown",
   "metadata": {}
  },
  {
   "cell_type": "code",
   "execution_count": 34,
   "metadata": {},
   "outputs": [],
   "source": [
    "import csv\n",
    "import gzip\n",
    "import re\n",
    "import pickle\n",
    "\n",
    "import pandas as pd"
   ]
  },
  {
   "source": [
    "# with gzip.open(\"vep/clinvar.annotated.vcf.gz\", \"rt\") as f:\n",
    "#         for line in f:\n",
    "#             if line.startswith(\"##INFO=<ID=CSQ\"):\n",
    "#                 m = re.search(r'.*Format: (.*)\">', line)\n",
    "#                 cols = m.group(1).split(\"|\")\n",
    "#                 continue\n",
    "\n",
    "#             if line.startswith(\"#\"):\n",
    "#                 continue\n",
    "#             record = line.split(\"\\t\")\n",
    "#             (\n",
    "#                 chromosome,\n",
    "#                 position,\n",
    "#                 clinvar_id,\n",
    "#                 reference_base,\n",
    "#                 alternate_base,\n",
    "#                 qual,\n",
    "#                 filter_,\n",
    "#                 info,\n",
    "#             ) = record\n",
    "#             info_field = info.strip(\"\\n\").split(\";\")\n",
    "\n",
    "#             # to lookup in clivnar_annotaitons\n",
    "#             clinvar_id = int(clinvar_id)\n",
    "\n",
    "#             # only keep the variants that have been evaluated by multiple submitters\n",
    "#             if clinvar_id in clinvar_annotations:\n",
    "#                 # initialize a dictionary to hold all the VEP annotation data\n",
    "#                 annotation_data = {column: None for column in cols}\n",
    "#                 annotation_data.update(clinvar_annotations[clinvar_id])\n",
    "#                 # fields directly from the vcf\n",
    "#                 annotation_data[\"CHROM\"] = str(chromosome)\n",
    "#                 annotation_data[\"POS\"] = position\n",
    "#                 annotation_data[\"REF\"] = reference_base\n",
    "#                 annotation_data[\"ALT\"] = alternate_base\n",
    "\n",
    "#                 for annotations in info_field:\n",
    "#                     column, value = annotations.split(\"=\")\n",
    "\n",
    "#                     if column == \"CSQ\":\n",
    "#                         for csq_column, csq_value in zip(cols, value.split(\"|\")):\n",
    "#                             annotation_data[csq_column] = csq_value\n",
    "#                         continue\n",
    "\n",
    "#                     annotation_data[column] = value\n",
    "#                 dw.writerow(annotation_data)"
   ],
   "cell_type": "code",
   "metadata": {},
   "execution_count": 2,
   "outputs": []
  },
  {
   "cell_type": "code",
   "execution_count": 3,
   "metadata": {},
   "outputs": [],
   "source": [
    "# get columns names from tab delimited file\n",
    "cv_columns = {}\n",
    "with gzip.open(\"raw_vcf/clinvar.annotated.vcf.gz\", \"rt\") as f:\n",
    "    for metaline in f:\n",
    "        if metaline.startswith(\"##INFO\"):\n",
    "            colname = re.search(\"ID=(\\w+),\", metaline.strip(\"#\\n\"))\n",
    "            coldesc = re.search(\".*Description=(.*)>\", metaline.strip(\"#\\n\"))\n",
    "            cv_columns[colname.group(1)] = coldesc.group(1).strip('\"')"
   ]
  },
  {
   "cell_type": "code",
   "execution_count": 4,
   "metadata": {},
   "outputs": [],
   "source": [
    "# read tab delimited\n",
    "cv_df = pd.read_csv(\n",
    "    \"raw_vcf/clinvar.annotated.vcf.gz\",\n",
    "    sep=\"\\t\",\n",
    "    skiprows=35,\n",
    "    usecols=[0, 1, 2, 3, 4, 7], # rid of columns 5, 6\n",
    "    header=None,\n",
    ")"
   ]
  },
  {
   "cell_type": "code",
   "execution_count": 5,
   "metadata": {},
   "outputs": [],
   "source": [
    "cv_df.rename(columns={0: \"CHROM\", 1: \"POS\", 2: \"ID\", 3: \"REF\", 4: \"ALT\"}, inplace=True)"
   ]
  },
  {
   "cell_type": "code",
   "execution_count": 6,
   "metadata": {},
   "outputs": [],
   "source": [
    "# convert the long dictionary in column 7 to actual columns\n",
    "def list_to_dict(l):\n",
    "    \"\"\"Convert list to dict.\"\"\"\n",
    "    return {k: v for k, v in (x.split(\"=\") for x in l)}\n",
    "\n",
    "cv_df = pd.concat(\n",
    "    [\n",
    "        cv_df.drop([7], axis=1),\n",
    "        cv_df[7].str.split(\";\").apply(list_to_dict).apply(pd.Series),\n",
    "    ],\n",
    "    axis=1,\n",
    ")"
   ]
  },
  {
   "source": [
    "# the CSQ column has a bit different syntax. Unpack and convert into actual columns\n",
    "\n",
    "# get column names for CSQ\n",
    "with gzip.open(\"raw_vcf/clinvar.annotated.vcf.gz\", \"rt\") as f:\n",
    "        for line in f:\n",
    "            if line.startswith(\"##INFO=<ID=CSQ\"):\n",
    "                m = re.search(r'.*Format: (.*)\">', line)\n",
    "                cols = m.group(1).split(\"|\")\n",
    "\n",
    "# pipe to dict\n",
    "def CSQ_to_dict(l):\n",
    "    '''\n",
    "    Convert the pipe_separated values in the CSQ column to dict\n",
    "    '''\n",
    "    annotation_data = {}\n",
    "    for csq_column, csq_value in zip(cols, l):\n",
    "        annotation_data[csq_column] = csq_value\n",
    "    return annotation_data\n",
    "        \n",
    "# convert and concat\n",
    "cv_df = pd.concat(\n",
    "    [\n",
    "        cv_df.drop(['CSQ'], axis=1),\n",
    "        cv_df['CSQ'].str.split(\"|\").apply(CSQ_to_dict).apply(pd.Series),\n",
    "    ],\n",
    "    axis=1,\n",
    ")"
   ],
   "cell_type": "code",
   "metadata": {
    "tags": []
   },
   "execution_count": 25,
   "outputs": []
  },
  {
   "cell_type": "code",
   "execution_count": 36,
   "metadata": {},
   "outputs": [],
   "source": [
    "file = open('cv_df_extracted', 'wb')\n",
    "pickle.dump(cv_df, file)\n",
    "file.close()"
   ]
  },
  {
   "cell_type": "code",
   "execution_count": null,
   "metadata": {},
   "outputs": [],
   "source": []
  }
 ]
}