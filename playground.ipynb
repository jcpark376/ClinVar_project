{
 "metadata": {
  "language_info": {
   "codemirror_mode": {
    "name": "ipython",
    "version": 3
   },
   "file_extension": ".py",
   "mimetype": "text/x-python",
   "name": "python",
   "nbconvert_exporter": "python",
   "pygments_lexer": "ipython3",
   "version": "3.8.3-final"
  },
  "orig_nbformat": 2,
  "kernelspec": {
   "name": "Python 3.8.3 64-bit ('base': conda)",
   "display_name": "Python 3.8.3 64-bit ('base': conda)",
   "metadata": {
    "interpreter": {
     "hash": "a37621db6f99f75e4d2a47a248a6a71709dd01999a0a2eb01144ce85e79d4af1"
    }
   }
  }
 },
 "nbformat": 4,
 "nbformat_minor": 2,
 "cells": [
  {
   "cell_type": "code",
   "execution_count": 5,
   "metadata": {},
   "outputs": [],
   "source": [
    "import pickle\n",
    "import pandas as pd\n",
    "import numpy as np\n",
    "import matplotlib.pyplot as plt"
   ]
  },
  {
   "cell_type": "code",
   "execution_count": 6,
   "metadata": {},
   "outputs": [],
   "source": [
    "file = open('cv_df_extracted', 'rb')\n",
    "cv_df = pickle.load(file)"
   ]
  },
  {
   "cell_type": "code",
   "execution_count": 7,
   "metadata": {},
   "outputs": [],
   "source": [
    "# narrow rows down to just unambiguous clinical diagnoses\n",
    "unamb_stat = ['criteria_provided,_multiple_submitters,_no_conflicts','reviewed_by_expert_panel','practice_guideline ']\n",
    "cv_df = cv_df.loc[cv_df['CLNREVSTAT'].isin(unamb_stat)]"
   ]
  },
  {
   "cell_type": "code",
   "execution_count": 8,
   "metadata": {},
   "outputs": [],
   "source": [
    "# drop rows with just drug_response as a CLNSIG\n",
    "cv_df = cv_df.drop(cv_df[cv_df['CLNSIG'] == 'drug_response'].index)\n",
    "\n",
    "#convert ['CLNSIG'] into just three catagories\n",
    "cv_df.loc[cv_df['CLNSIG'].str.startswith(\"Benign\") | cv_df['CLNSIG'].str.startswith(\"Likely_benign\"), ['CLNSIG']] = 'Benign_cat'\n",
    "cv_df.loc[cv_df['CLNSIG'].str.startswith(\"Uncertain_significance\"), ['CLNSIG']] = 'Uncertain_significance_cat'\n",
    "cv_df.loc[cv_df['CLNSIG'].str.startswith(\"Pathogenic\") | cv_df['CLNSIG'].str.startswith(\"Likely_pathogenic\"), ['CLNSIG']] = 'Pathogenic_cat'"
   ]
  },
  {
   "cell_type": "code",
   "execution_count": 9,
   "metadata": {},
   "outputs": [
    {
     "output_type": "execute_result",
     "data": {
      "text/plain": [
       "Benign_cat                    28086\n",
       "Uncertain_significance_cat    17223\n",
       "Pathogenic_cat                12354\n",
       "Name: CLNSIG, dtype: int64"
      ]
     },
     "metadata": {},
     "execution_count": 9
    }
   ],
   "source": [
    "cv_df['CLNSIG'].value_counts()"
   ]
  },
  {
   "cell_type": "code",
   "execution_count": 62,
   "metadata": {},
   "outputs": [],
   "source": [
    "#drop columns not needed\n",
    "cv_df = cv_df.drop(columns=['ALLELEID', 'CLNDISDB',\n",
    "       'CLNHGVS', 'CLNREVSTAT', 'CLNVCSO', 'CLNVI',\n",
    "       'GENEINFO', 'RS', 'CLNSIGCONF',\n",
    "       'CLNDISDBINCL', 'CLNSIGINCL', 'SSR', 'DBVARID'], errors='ignore')\n",
    "\n",
    "cv_df = cv_df.drop(columns=['Allele', 'IMPACT', 'SYMBOL', 'Gene','Feature_type','Feature','HGVSc','HGVSp','Existing_variation','DISTANCE',\n",
    "    'STRAND','FLAGS','SYMBOL_SOURCE','HGNC_ID','TSL','APPRIS','REFSEQ_MATCH','GIVEN_REF','USED_REF','MOTIF_NAME','MOTIF_POS','HIGH_INF_POS'\n",
    "])\n",
    "\n",
    "cv_df = cv_df.drop(columns=['MOTIF_SCORE_CHANGE'])"
   ]
  },
  {
   "cell_type": "code",
   "execution_count": 63,
   "metadata": {},
   "outputs": [
    {
     "output_type": "execute_result",
     "data": {
      "text/plain": [
       "array([''], dtype=object)"
      ]
     },
     "metadata": {},
     "execution_count": 63
    }
   ],
   "source": [
    "cv_df['MOTIF_SCORE_CHANGE'].unique()"
   ]
  },
  {
   "cell_type": "code",
   "execution_count": 36,
   "metadata": {},
   "outputs": [
    {
     "output_type": "execute_result",
     "data": {
      "text/plain": [
       "Index(['CHROM', 'POS', 'ID', 'REF', 'ALT', 'AF_EXAC', 'CLNDN', 'CLNSIG',\n",
       "       'CLNVC', 'MC', 'ORIGIN', 'AF_ESP', 'AF_TGP', 'CLNDNINCL', 'Allele',\n",
       "       'Consequence', 'IMPACT', 'SYMBOL', 'Gene', 'Feature_type', 'Feature',\n",
       "       'BIOTYPE', 'EXON', 'INTRON', 'HGVSc', 'HGVSp', 'cDNA_position',\n",
       "       'CDS_position', 'Protein_position', 'Amino_acids', 'Codons',\n",
       "       'Existing_variation', 'DISTANCE', 'STRAND', 'FLAGS', 'SYMBOL_SOURCE',\n",
       "       'HGNC_ID', 'TSL', 'APPRIS', 'REFSEQ_MATCH', 'GIVEN_REF', 'USED_REF',\n",
       "       'BAM_EDIT', 'SIFT', 'PolyPhen', 'MOTIF_NAME', 'MOTIF_POS',\n",
       "       'HIGH_INF_POS', 'MOTIF_SCORE_CHANGE', 'LoFtool', 'MPC', 'CADD_PHRED',\n",
       "       'CADD_RAW', 'BLOSUM62'],\n",
       "      dtype='object')"
      ]
     },
     "metadata": {},
     "execution_count": 36
    }
   ],
   "source": [
    "cv_df.columns"
   ]
  },
  {
   "cell_type": "code",
   "execution_count": 23,
   "metadata": {},
   "outputs": [],
   "source": [
    "# change all values in CHROM into consistent datatype\n",
    "cv_df['CHROM'] = cv_df['CHROM'].apply(lambda x: str(x))"
   ]
  },
  {
   "cell_type": "code",
   "execution_count": 38,
   "metadata": {},
   "outputs": [
    {
     "output_type": "execute_result",
     "data": {
      "text/plain": [
       "protein_coding    57647\n",
       "misc_RNA             11\n",
       "                      5\n",
       "Name: BIOTYPE, dtype: int64"
      ]
     },
     "metadata": {},
     "execution_count": 38
    }
   ],
   "source": [
    "cv_df['BIOTYPE'].value_counts()"
   ]
  },
  {
   "cell_type": "code",
   "execution_count": null,
   "metadata": {},
   "outputs": [],
   "source": []
  }
 ]
}