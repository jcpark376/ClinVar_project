{
 "metadata": {
  "language_info": {
   "codemirror_mode": {
    "name": "ipython",
    "version": 3
   },
   "file_extension": ".py",
   "mimetype": "text/x-python",
   "name": "python",
   "nbconvert_exporter": "python",
   "pygments_lexer": "ipython3",
   "version": "3.8.3-final"
  },
  "orig_nbformat": 2,
  "kernelspec": {
   "name": "Python 3.8.3 64-bit ('base': conda)",
   "display_name": "Python 3.8.3 64-bit ('base': conda)",
   "metadata": {
    "interpreter": {
     "hash": "a37621db6f99f75e4d2a47a248a6a71709dd01999a0a2eb01144ce85e79d4af1"
    }
   }
  }
 },
 "nbformat": 4,
 "nbformat_minor": 2,
 "cells": [
  {
   "source": [
    "### Evaluating the model on other rows"
   ],
   "cell_type": "markdown",
   "metadata": {}
  },
  {
   "cell_type": "code",
   "execution_count": 2,
   "metadata": {},
   "outputs": [],
   "source": [
    "import re\n",
    "import pickle\n",
    "\n",
    "import pandas as pd"
   ]
  },
  {
   "cell_type": "code",
   "execution_count": 3,
   "metadata": {},
   "outputs": [],
   "source": [
    "file = open('df_extracted_basic', 'rb')\n",
    "cv_df = pickle.load(file)"
   ]
  },
  {
   "cell_type": "code",
   "execution_count": 7,
   "metadata": {},
   "outputs": [
    {
     "output_type": "execute_result",
     "data": {
      "text/plain": [
       "criteria_provided,_single_submitter                     231953\n",
       "criteria_provided,_multiple_submitters,_no_conflicts     48754\n",
       "no_assertion_criteria_provided                           36329\n",
       "criteria_provided,_conflicting_interpretations           16434\n",
       "no_assertion_provided                                    10274\n",
       "reviewed_by_expert_panel                                  9062\n",
       "no_interpretation_for_the_single_variant                   512\n",
       "practice_guideline                                          23\n",
       "Name: CLNREVSTAT, dtype: int64"
      ]
     },
     "metadata": {},
     "execution_count": 7
    }
   ],
   "source": [
    "cv_df['CLNREVSTAT'].value_counts()"
   ]
  },
  {
   "cell_type": "code",
   "execution_count": null,
   "metadata": {},
   "outputs": [],
   "source": []
  },
  {
   "source": [
    "# narrow rows down to just unambiguous clinical diagnoses\n",
    "unamb_stat = ['criteria_provided,_multiple_submitters,_no_conflicts','reviewed_by_expert_panel','practice_guideline ']\n",
    "cv_df = cv_df.loc[cv_df['CLNREVSTAT'].isin(unamb_stat)]"
   ],
   "cell_type": "code",
   "metadata": {},
   "execution_count": 7,
   "outputs": []
  },
  {
   "cell_type": "code",
   "execution_count": 8,
   "metadata": {},
   "outputs": [],
   "source": [
    "# drop rows with just drug_response as a CLNSIG\n",
    "cv_df = cv_df.drop(cv_df[cv_df['CLNSIG'] == 'drug_response'].index)\n",
    "\n",
    "#convert ['CLNSIG'] into just three catagories\n",
    "cv_df.loc[cv_df['CLNSIG'].str.startswith(\"Benign\") | cv_df['CLNSIG'].str.startswith(\"Likely_benign\"), ['CLNSIG']] = 'Benign_cat'\n",
    "cv_df.loc[cv_df['CLNSIG'].str.startswith(\"Uncertain_significance\"), ['CLNSIG']] = 'Uncertain_significance_cat'\n",
    "cv_df.loc[cv_df['CLNSIG'].str.startswith(\"Pathogenic\") | cv_df['CLNSIG'].str.startswith(\"Likely_pathogenic\"), ['CLNSIG']] = 'Pathogenic_cat'"
   ]
  },
  {
   "cell_type": "code",
   "execution_count": 9,
   "metadata": {},
   "outputs": [
    {
     "output_type": "execute_result",
     "data": {
      "text/plain": [
       "Benign_cat                    28086\n",
       "Uncertain_significance_cat    17223\n",
       "Pathogenic_cat                12354\n",
       "Name: CLNSIG, dtype: int64"
      ]
     },
     "metadata": {},
     "execution_count": 9
    }
   ],
   "source": [
    "cv_df['CLNSIG'].value_counts()"
   ]
  },
  {
   "cell_type": "code",
   "execution_count": null,
   "metadata": {},
   "outputs": [],
   "source": []
  },
  {
   "cell_type": "code",
   "execution_count": null,
   "metadata": {},
   "outputs": [],
   "source": []
  },
  {
   "source": [
    "#### Drop columns absolutely not needed, and save cleaned up file as pickled file"
   ],
   "cell_type": "markdown",
   "metadata": {}
  },
  {
   "cell_type": "code",
   "execution_count": 10,
   "metadata": {},
   "outputs": [],
   "source": [
    "#drop columns not needed\n",
    "cv_df = cv_df.drop(columns=['ALLELEID', 'CLNDISDB',\n",
    "       'CLNHGVS', 'CLNREVSTAT', 'CLNVCSO', 'CLNVI',\n",
    "       'GENEINFO', 'RS', 'CLNSIGCONF',\n",
    "       'CLNDISDBINCL', 'CLNSIGINCL', 'SSR', 'DBVARID','Allele', \n",
    "       'IMPACT', 'SYMBOL', 'Gene','Feature_type','Feature','HGVSc','HGVSp','Existing_variation','DISTANCE',\n",
    "       'STRAND','FLAGS','SYMBOL_SOURCE','HGNC_ID','TSL','APPRIS','REFSEQ_MATCH',\n",
    "       'GIVEN_REF','USED_REF','MOTIF_NAME','MOTIF_POS','HIGH_INF_POS','MOTIF_SCORE_CHANGE','MPC'])"
   ]
  },
  {
   "cell_type": "code",
   "execution_count": 11,
   "metadata": {},
   "outputs": [],
   "source": [
    "file = open('cv_df_extracted', 'wb')\n",
    "pickle.dump(cv_df, file)\n",
    "file.close()"
   ]
  },
  {
   "cell_type": "code",
   "execution_count": null,
   "metadata": {},
   "outputs": [],
   "source": []
  },
  {
   "cell_type": "code",
   "execution_count": null,
   "metadata": {},
   "outputs": [],
   "source": []
  }
 ]
}