{
 "metadata": {
  "language_info": {
   "codemirror_mode": {
    "name": "ipython",
    "version": 3
   },
   "file_extension": ".py",
   "mimetype": "text/x-python",
   "name": "python",
   "nbconvert_exporter": "python",
   "pygments_lexer": "ipython3",
   "version": "3.8.3-final"
  },
  "orig_nbformat": 2,
  "kernelspec": {
   "name": "Python 3.8.3 64-bit ('anaconda3': virtualenv)",
   "display_name": "Python 3.8.3 64-bit ('anaconda3': virtualenv)",
   "metadata": {
    "interpreter": {
     "hash": "a37621db6f99f75e4d2a47a248a6a71709dd01999a0a2eb01144ce85e79d4af1"
    }
   }
  }
 },
 "nbformat": 4,
 "nbformat_minor": 2,
 "cells": [
  {
   "source": [
    "### There are two related tab-delimited vcf files. \n",
    "-regular\n",
    "-annotated\n",
    "\n",
    "### This notebook cleans up the regular (basic-info) dataframe and saves it as pickled dataframe"
   ],
   "cell_type": "markdown",
   "metadata": {}
  },
  {
   "cell_type": "code",
   "execution_count": 1,
   "metadata": {},
   "outputs": [],
   "source": [
    "import csv\n",
    "import gzip\n",
    "import re\n",
    "\n",
    "import pandas as pd"
   ]
  },
  {
   "cell_type": "code",
   "execution_count": 2,
   "metadata": {},
   "outputs": [],
   "source": [
    "# get columns names from tab delimited file\n",
    "cv_columns = {}\n",
    "with gzip.open(\"raw_vcf/clinvar.vcf.gz\", \"rt\") as f:\n",
    "    for metaline in f:\n",
    "        if metaline.startswith(\"##INFO\"):\n",
    "            colname = re.search(\"ID=(\\w+),\", metaline.strip(\"#\\n\"))\n",
    "            coldesc = re.search(\".*Description=(.*)>\", metaline.strip(\"#\\n\"))\n",
    "            cv_columns[colname.group(1)] = coldesc.group(1).strip('\"')"
   ]
  },
  {
   "cell_type": "code",
   "execution_count": 3,
   "metadata": {},
   "outputs": [],
   "source": [
    "# read tab delimited\n",
    "cv_df = pd.read_csv(\n",
    "    \"raw_vcf/clinvar.vcf.gz\",\n",
    "    sep=\"\\t\",\n",
    "    comment=\"#\",\n",
    "    usecols=[0, 1, 2, 3, 4, 7], # rid of columns 5, 6\n",
    "    header=None,\n",
    ")"
   ]
  },
  {
   "cell_type": "code",
   "execution_count": 4,
   "metadata": {},
   "outputs": [],
   "source": [
    "# convert the long dictionary in column 7 to actual columns\n",
    "def list_to_dict(l):\n",
    "    \"\"\"Convert list to dict.\"\"\"\n",
    "    return {k: v for k, v in (x.split(\"=\") for x in l)}\n",
    "\n",
    "cv_df = pd.concat(\n",
    "    [\n",
    "        cv_df.drop([7], axis=1),\n",
    "        cv_df[7].str.split(\";\").apply(list_to_dict).apply(pd.Series),\n",
    "    ],\n",
    "    axis=1,\n",
    ")"
   ]
  },
  {
   "cell_type": "code",
   "execution_count": 5,
   "metadata": {},
   "outputs": [],
   "source": [
    "# drop columns not needed (except ID, we need that)\n",
    "cv_df.rename(columns={0: \"CHROM\", 1: \"POS\", 2: \"ID\", 3: \"REF\", 4: \"ALT\"}, inplace=True)\n",
    "cv_df = cv_df.drop(columns=[\"CHROM\", \"POS\", \"REF\", \"ALT\"])"
   ]
  },
  {
   "cell_type": "code",
   "execution_count": null,
   "metadata": {},
   "outputs": [],
   "source": []
  }
 ]
}