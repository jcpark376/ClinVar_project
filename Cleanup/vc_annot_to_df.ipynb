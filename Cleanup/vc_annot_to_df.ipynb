{
 "metadata": {
  "language_info": {
   "codemirror_mode": {
    "name": "ipython",
    "version": 3
   },
   "file_extension": ".py",
   "mimetype": "text/x-python",
   "name": "python",
   "nbconvert_exporter": "python",
   "pygments_lexer": "ipython3",
   "version": "3.8.3-final"
  },
  "orig_nbformat": 2,
  "kernelspec": {
   "name": "Python 3.8.3 64-bit ('base': conda)",
   "display_name": "Python 3.8.3 64-bit ('base': conda)",
   "metadata": {
    "interpreter": {
     "hash": "a37621db6f99f75e4d2a47a248a6a71709dd01999a0a2eb01144ce85e79d4af1"
    }
   }
  }
 },
 "nbformat": 4,
 "nbformat_minor": 2,
 "cells": [
  {
   "source": [
    "## This notebook extracts data from the annotated vcf, cleans up a little, and saves it as pickled dataframe"
   ],
   "cell_type": "markdown",
   "metadata": {}
  },
  {
   "source": [
    "### Import vcf and convert into dataframe. Extract features inside cells as necessary."
   ],
   "cell_type": "markdown",
   "metadata": {}
  },
  {
   "cell_type": "code",
   "execution_count": 1,
   "metadata": {},
   "outputs": [],
   "source": [
    "import csv\n",
    "import gzip\n",
    "import re\n",
    "import pickle\n",
    "\n",
    "import pandas as pd"
   ]
  },
  {
   "cell_type": "code",
   "execution_count": 2,
   "metadata": {},
   "outputs": [],
   "source": [
    "# read tab delimited\n",
    "cv_df = pd.read_csv(\n",
    "    \"clinvar.annotated.vcf.gz\",\n",
    "    sep=\"\\t\",\n",
    "    skiprows=35,\n",
    "    usecols=[0, 1, 2, 3, 4, 7], # rid of columns 5, 6\n",
    "    header=None,\n",
    ")"
   ]
  },
  {
   "cell_type": "code",
   "execution_count": 3,
   "metadata": {},
   "outputs": [],
   "source": [
    "cv_df.rename(columns={0: \"CHROM\", 1: \"POS\", 2: \"ID\", 3: \"REF\", 4: \"ALT\"}, inplace=True)"
   ]
  },
  {
   "cell_type": "code",
   "execution_count": 4,
   "metadata": {},
   "outputs": [
    {
     "output_type": "execute_result",
     "data": {
      "text/plain": [
       "  CHROM      POS     ID REF ALT  \\\n",
       "0     1  1149118  96692   G   A   \n",
       "1     1  1167674  60493   C   T   \n",
       "2     1  1167851  60488   A   G   \n",
       "3     1  1167858  60489   C   T   \n",
       "4     1  1168124  60486   G   A   \n",
       "\n",
       "                                                   7  \n",
       "0  AF_EXAC=0.00004;ALLELEID=102585;CLNDISDB=MedGe...  \n",
       "1  ALLELEID=75088;CLNDISDB=MedGen:C3809210,OMIM:6...  \n",
       "2  ALLELEID=75083;CLNDISDB=MedGen:C0432243,OMIM:2...  \n",
       "3  ALLELEID=75084;CLNDISDB=MedGen:C0432243,OMIM:2...  \n",
       "4  ALLELEID=75081;CLNDISDB=MedGen:C0432243,OMIM:2...  "
      ],
      "text/html": "<div>\n<style scoped>\n    .dataframe tbody tr th:only-of-type {\n        vertical-align: middle;\n    }\n\n    .dataframe tbody tr th {\n        vertical-align: top;\n    }\n\n    .dataframe thead th {\n        text-align: right;\n    }\n</style>\n<table border=\"1\" class=\"dataframe\">\n  <thead>\n    <tr style=\"text-align: right;\">\n      <th></th>\n      <th>CHROM</th>\n      <th>POS</th>\n      <th>ID</th>\n      <th>REF</th>\n      <th>ALT</th>\n      <th>7</th>\n    </tr>\n  </thead>\n  <tbody>\n    <tr>\n      <th>0</th>\n      <td>1</td>\n      <td>1149118</td>\n      <td>96692</td>\n      <td>G</td>\n      <td>A</td>\n      <td>AF_EXAC=0.00004;ALLELEID=102585;CLNDISDB=MedGe...</td>\n    </tr>\n    <tr>\n      <th>1</th>\n      <td>1</td>\n      <td>1167674</td>\n      <td>60493</td>\n      <td>C</td>\n      <td>T</td>\n      <td>ALLELEID=75088;CLNDISDB=MedGen:C3809210,OMIM:6...</td>\n    </tr>\n    <tr>\n      <th>2</th>\n      <td>1</td>\n      <td>1167851</td>\n      <td>60488</td>\n      <td>A</td>\n      <td>G</td>\n      <td>ALLELEID=75083;CLNDISDB=MedGen:C0432243,OMIM:2...</td>\n    </tr>\n    <tr>\n      <th>3</th>\n      <td>1</td>\n      <td>1167858</td>\n      <td>60489</td>\n      <td>C</td>\n      <td>T</td>\n      <td>ALLELEID=75084;CLNDISDB=MedGen:C0432243,OMIM:2...</td>\n    </tr>\n    <tr>\n      <th>4</th>\n      <td>1</td>\n      <td>1168124</td>\n      <td>60486</td>\n      <td>G</td>\n      <td>A</td>\n      <td>ALLELEID=75081;CLNDISDB=MedGen:C0432243,OMIM:2...</td>\n    </tr>\n  </tbody>\n</table>\n</div>"
     },
     "metadata": {},
     "execution_count": 4
    }
   ],
   "source": [
    "cv_df.head()"
   ]
  },
  {
   "cell_type": "code",
   "execution_count": 5,
   "metadata": {},
   "outputs": [],
   "source": [
    "# column 7 has a different format and actually contains dozens of more columns\n",
    "# convert the long dictionary in column 7 to actual columns\n",
    "def list_to_dict(l):\n",
    "    \"\"\"Convert list to dict.\"\"\"\n",
    "    return {k: v for k, v in (x.split(\"=\") for x in l)}\n",
    "\n",
    "cv_df = pd.concat(\n",
    "    [\n",
    "        cv_df.drop([7], axis=1),\n",
    "        cv_df[7].str.split(\";\").apply(list_to_dict).apply(pd.Series),\n",
    "    ],\n",
    "    axis=1,\n",
    ")"
   ]
  },
  {
   "cell_type": "code",
   "execution_count": 6,
   "metadata": {},
   "outputs": [
    {
     "output_type": "execute_result",
     "data": {
      "text/plain": [
       "  CHROM      POS     ID REF ALT  AF_EXAC ALLELEID  \\\n",
       "0     1  1149118  96692   G   A  0.00004   102585   \n",
       "1     1  1167674  60493   C   T      NaN    75088   \n",
       "2     1  1167851  60488   A   G      NaN    75083   \n",
       "3     1  1167858  60489   C   T      NaN    75084   \n",
       "4     1  1168124  60486   G   A      NaN    75081   \n",
       "\n",
       "                                            CLNDISDB  \\\n",
       "0   MedGen:C3810053,OMIM:615593,Orphanet:ORPHA431149   \n",
       "1                        MedGen:C3809210,OMIM:615349   \n",
       "2  MedGen:C0432243,OMIM:271640,Orphanet:ORPHA9335...   \n",
       "3  MedGen:C0432243,OMIM:271640,Orphanet:ORPHA9335...   \n",
       "4  MedGen:C0432243,OMIM:271640,Orphanet:ORPHA9335...   \n",
       "\n",
       "                                               CLNDN  \\\n",
       "0                                Immunodeficiency_16   \n",
       "1          Ehlers-Danlos_syndrome,_progeroid_type,_2   \n",
       "2  Spondyloepimetaphyseal_dysplasia_with_joint_la...   \n",
       "3  Spondyloepimetaphyseal_dysplasia_with_joint_la...   \n",
       "4  Spondyloepimetaphyseal_dysplasia_with_joint_la...   \n",
       "\n",
       "                     CLNHGVS  ...         RS  \\\n",
       "0  NC_000001.10:g.1149118G>A  ...  587777075   \n",
       "1  NC_000001.10:g.1167674C>T  ...  397514722   \n",
       "2  NC_000001.10:g.1167851A>G  ...  397514719   \n",
       "3  NC_000001.10:g.1167858C>T  ...  397514720   \n",
       "4  NC_000001.10:g.1168124G>A  ...  397514718   \n",
       "\n",
       "                                                 CSQ AF_ESP AF_TGP CLNSIGCONF  \\\n",
       "0  A|5_prime_UTR_variant|MODIFIER|TNFRSF4|7293|Tr...    NaN    NaN        NaN   \n",
       "1  T|missense_variant|MODERATE|B3GALT6|126792|Tra...    NaN    NaN        NaN   \n",
       "2  G|missense_variant|MODERATE|B3GALT6|126792|Tra...    NaN    NaN        NaN   \n",
       "3  T|missense_variant|MODERATE|B3GALT6|126792|Tra...    NaN    NaN        NaN   \n",
       "4  A|missense_variant|MODERATE|B3GALT6|126792|Tra...    NaN    NaN        NaN   \n",
       "\n",
       "  CLNDISDBINCL CLNDNINCL CLNSIGINCL  SSR DBVARID  \n",
       "0          NaN       NaN        NaN  NaN     NaN  \n",
       "1          NaN       NaN        NaN  NaN     NaN  \n",
       "2          NaN       NaN        NaN  NaN     NaN  \n",
       "3          NaN       NaN        NaN  NaN     NaN  \n",
       "4          NaN       NaN        NaN  NaN     NaN  \n",
       "\n",
       "[5 rows x 28 columns]"
      ],
      "text/html": "<div>\n<style scoped>\n    .dataframe tbody tr th:only-of-type {\n        vertical-align: middle;\n    }\n\n    .dataframe tbody tr th {\n        vertical-align: top;\n    }\n\n    .dataframe thead th {\n        text-align: right;\n    }\n</style>\n<table border=\"1\" class=\"dataframe\">\n  <thead>\n    <tr style=\"text-align: right;\">\n      <th></th>\n      <th>CHROM</th>\n      <th>POS</th>\n      <th>ID</th>\n      <th>REF</th>\n      <th>ALT</th>\n      <th>AF_EXAC</th>\n      <th>ALLELEID</th>\n      <th>CLNDISDB</th>\n      <th>CLNDN</th>\n      <th>CLNHGVS</th>\n      <th>...</th>\n      <th>RS</th>\n      <th>CSQ</th>\n      <th>AF_ESP</th>\n      <th>AF_TGP</th>\n      <th>CLNSIGCONF</th>\n      <th>CLNDISDBINCL</th>\n      <th>CLNDNINCL</th>\n      <th>CLNSIGINCL</th>\n      <th>SSR</th>\n      <th>DBVARID</th>\n    </tr>\n  </thead>\n  <tbody>\n    <tr>\n      <th>0</th>\n      <td>1</td>\n      <td>1149118</td>\n      <td>96692</td>\n      <td>G</td>\n      <td>A</td>\n      <td>0.00004</td>\n      <td>102585</td>\n      <td>MedGen:C3810053,OMIM:615593,Orphanet:ORPHA431149</td>\n      <td>Immunodeficiency_16</td>\n      <td>NC_000001.10:g.1149118G&gt;A</td>\n      <td>...</td>\n      <td>587777075</td>\n      <td>A|5_prime_UTR_variant|MODIFIER|TNFRSF4|7293|Tr...</td>\n      <td>NaN</td>\n      <td>NaN</td>\n      <td>NaN</td>\n      <td>NaN</td>\n      <td>NaN</td>\n      <td>NaN</td>\n      <td>NaN</td>\n      <td>NaN</td>\n    </tr>\n    <tr>\n      <th>1</th>\n      <td>1</td>\n      <td>1167674</td>\n      <td>60493</td>\n      <td>C</td>\n      <td>T</td>\n      <td>NaN</td>\n      <td>75088</td>\n      <td>MedGen:C3809210,OMIM:615349</td>\n      <td>Ehlers-Danlos_syndrome,_progeroid_type,_2</td>\n      <td>NC_000001.10:g.1167674C&gt;T</td>\n      <td>...</td>\n      <td>397514722</td>\n      <td>T|missense_variant|MODERATE|B3GALT6|126792|Tra...</td>\n      <td>NaN</td>\n      <td>NaN</td>\n      <td>NaN</td>\n      <td>NaN</td>\n      <td>NaN</td>\n      <td>NaN</td>\n      <td>NaN</td>\n      <td>NaN</td>\n    </tr>\n    <tr>\n      <th>2</th>\n      <td>1</td>\n      <td>1167851</td>\n      <td>60488</td>\n      <td>A</td>\n      <td>G</td>\n      <td>NaN</td>\n      <td>75083</td>\n      <td>MedGen:C0432243,OMIM:271640,Orphanet:ORPHA9335...</td>\n      <td>Spondyloepimetaphyseal_dysplasia_with_joint_la...</td>\n      <td>NC_000001.10:g.1167851A&gt;G</td>\n      <td>...</td>\n      <td>397514719</td>\n      <td>G|missense_variant|MODERATE|B3GALT6|126792|Tra...</td>\n      <td>NaN</td>\n      <td>NaN</td>\n      <td>NaN</td>\n      <td>NaN</td>\n      <td>NaN</td>\n      <td>NaN</td>\n      <td>NaN</td>\n      <td>NaN</td>\n    </tr>\n    <tr>\n      <th>3</th>\n      <td>1</td>\n      <td>1167858</td>\n      <td>60489</td>\n      <td>C</td>\n      <td>T</td>\n      <td>NaN</td>\n      <td>75084</td>\n      <td>MedGen:C0432243,OMIM:271640,Orphanet:ORPHA9335...</td>\n      <td>Spondyloepimetaphyseal_dysplasia_with_joint_la...</td>\n      <td>NC_000001.10:g.1167858C&gt;T</td>\n      <td>...</td>\n      <td>397514720</td>\n      <td>T|missense_variant|MODERATE|B3GALT6|126792|Tra...</td>\n      <td>NaN</td>\n      <td>NaN</td>\n      <td>NaN</td>\n      <td>NaN</td>\n      <td>NaN</td>\n      <td>NaN</td>\n      <td>NaN</td>\n      <td>NaN</td>\n    </tr>\n    <tr>\n      <th>4</th>\n      <td>1</td>\n      <td>1168124</td>\n      <td>60486</td>\n      <td>G</td>\n      <td>A</td>\n      <td>NaN</td>\n      <td>75081</td>\n      <td>MedGen:C0432243,OMIM:271640,Orphanet:ORPHA9335...</td>\n      <td>Spondyloepimetaphyseal_dysplasia_with_joint_la...</td>\n      <td>NC_000001.10:g.1168124G&gt;A</td>\n      <td>...</td>\n      <td>397514718</td>\n      <td>A|missense_variant|MODERATE|B3GALT6|126792|Tra...</td>\n      <td>NaN</td>\n      <td>NaN</td>\n      <td>NaN</td>\n      <td>NaN</td>\n      <td>NaN</td>\n      <td>NaN</td>\n      <td>NaN</td>\n      <td>NaN</td>\n    </tr>\n  </tbody>\n</table>\n<p>5 rows × 28 columns</p>\n</div>"
     },
     "metadata": {},
     "execution_count": 6
    }
   ],
   "source": [
    "cv_df.head()"
   ]
  },
  {
   "source": [
    "# the CSQ column (9th column from right side) has a bit different syntax. Unpack and convert into actual columns\n",
    "\n",
    "# get column names for CSQ\n",
    "with gzip.open(\"clinvar.annotated.vcf.gz\", \"rt\") as f:\n",
    "        for line in f:\n",
    "            if line.startswith(\"##INFO=<ID=CSQ\"):\n",
    "                m = re.search(r'.*Format: (.*)\">', line)\n",
    "                cols = m.group(1).split(\"|\")\n",
    "\n",
    "# pipe to dict\n",
    "def CSQ_to_dict(l):\n",
    "    '''\n",
    "    Convert the pipe_separated values in the CSQ column to dict\n",
    "    '''\n",
    "    annotation_data = {}\n",
    "    for csq_column, csq_value in zip(cols, l):\n",
    "        annotation_data[csq_column] = csq_value\n",
    "    return annotation_data\n",
    "        \n",
    "# convert and concat\n",
    "cv_df = pd.concat(\n",
    "    [\n",
    "        cv_df.drop(['CSQ'], axis=1),\n",
    "        cv_df['CSQ'].str.split(\"|\").apply(CSQ_to_dict).apply(pd.Series),\n",
    "    ],\n",
    "    axis=1,\n",
    ")"
   ],
   "cell_type": "code",
   "metadata": {
    "tags": []
   },
   "execution_count": 7,
   "outputs": []
  },
  {
   "cell_type": "code",
   "execution_count": 8,
   "metadata": {},
   "outputs": [
    {
     "output_type": "execute_result",
     "data": {
      "text/plain": [
       "(354199, 67)"
      ]
     },
     "metadata": {},
     "execution_count": 8
    }
   ],
   "source": [
    "cv_df.shape"
   ]
  },
  {
   "cell_type": "code",
   "execution_count": null,
   "metadata": {},
   "outputs": [],
   "source": []
  },
  {
   "source": [
    "### Only extract rows that have unambiguous clinical diagnoses. Then, clean-up the numerous targets into three different bins (benign, uncertain, or pathogenic)."
   ],
   "cell_type": "markdown",
   "metadata": {}
  },
  {
   "source": [
    "# narrow rows down to just unambiguous clinical diagnoses\n",
    "unamb_stat = ['criteria_provided,_multiple_submitters,_no_conflicts','reviewed_by_expert_panel','practice_guideline ']\n",
    "cv_df = cv_df.loc[cv_df['CLNREVSTAT'].isin(unamb_stat)]"
   ],
   "cell_type": "code",
   "metadata": {},
   "execution_count": 9,
   "outputs": []
  },
  {
   "cell_type": "code",
   "execution_count": 10,
   "metadata": {},
   "outputs": [],
   "source": [
    "# drop rows with just drug_response as a CLNSIG\n",
    "cv_df = cv_df.drop(cv_df[cv_df['CLNSIG'] == 'drug_response'].index)\n",
    "\n",
    "#convert ['CLNSIG'] into just three catagories\n",
    "cv_df.loc[cv_df['CLNSIG'].str.startswith(\"Benign\") | cv_df['CLNSIG'].str.startswith(\"Likely_benign\"), ['CLNSIG']] = 'Benign_cat'\n",
    "cv_df.loc[cv_df['CLNSIG'].str.startswith(\"Uncertain_significance\"), ['CLNSIG']] = 'Uncertain_significance_cat'\n",
    "cv_df.loc[cv_df['CLNSIG'].str.startswith(\"Pathogenic\") | cv_df['CLNSIG'].str.startswith(\"Likely_pathogenic\"), ['CLNSIG']] = 'Pathogenic_cat'"
   ]
  },
  {
   "cell_type": "code",
   "execution_count": 11,
   "metadata": {},
   "outputs": [
    {
     "output_type": "execute_result",
     "data": {
      "text/plain": [
       "Benign_cat                    28086\n",
       "Uncertain_significance_cat    17223\n",
       "Pathogenic_cat                12354\n",
       "Name: CLNSIG, dtype: int64"
      ]
     },
     "metadata": {},
     "execution_count": 11
    }
   ],
   "source": [
    "cv_df['CLNSIG'].value_counts()"
   ]
  },
  {
   "cell_type": "code",
   "execution_count": null,
   "metadata": {},
   "outputs": [],
   "source": []
  },
  {
   "cell_type": "code",
   "execution_count": null,
   "metadata": {},
   "outputs": [],
   "source": []
  },
  {
   "source": [
    "### Drop columns absolutely not needed, and save cleaned up file as pickled file"
   ],
   "cell_type": "markdown",
   "metadata": {}
  },
  {
   "cell_type": "code",
   "execution_count": 12,
   "metadata": {},
   "outputs": [],
   "source": [
    "#drop columns not needed\n",
    "cv_df = cv_df.drop(columns=['ALLELEID', 'CLNDISDB',\n",
    "       'CLNHGVS', 'CLNREVSTAT', 'CLNVCSO', 'CLNVI',\n",
    "       'GENEINFO', 'RS', 'CLNSIGCONF',\n",
    "       'CLNDISDBINCL', 'CLNSIGINCL', 'SSR', 'DBVARID','Allele', \n",
    "       'IMPACT', 'SYMBOL', 'Gene','Feature_type','Feature','HGVSc','HGVSp','Existing_variation','DISTANCE',\n",
    "       'STRAND','FLAGS','SYMBOL_SOURCE','HGNC_ID','TSL','APPRIS','REFSEQ_MATCH',\n",
    "       'GIVEN_REF','USED_REF','MOTIF_NAME','MOTIF_POS','HIGH_INF_POS','MOTIF_SCORE_CHANGE','MPC'])"
   ]
  },
  {
   "cell_type": "code",
   "execution_count": 13,
   "metadata": {},
   "outputs": [
    {
     "output_type": "execute_result",
     "data": {
      "text/plain": [
       "(57663, 30)"
      ]
     },
     "metadata": {},
     "execution_count": 13
    }
   ],
   "source": [
    "# shape of df to be used for training and testing\n",
    "cv_df.shape"
   ]
  },
  {
   "cell_type": "code",
   "execution_count": 14,
   "metadata": {},
   "outputs": [],
   "source": [
    "file = open('cv_df_extracted', 'wb')\n",
    "pickle.dump(cv_df, file)\n",
    "file.close()"
   ]
  },
  {
   "cell_type": "code",
   "execution_count": null,
   "metadata": {},
   "outputs": [],
   "source": []
  },
  {
   "cell_type": "code",
   "execution_count": null,
   "metadata": {},
   "outputs": [],
   "source": []
  }
 ]
}